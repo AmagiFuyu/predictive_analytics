{
 "cells": [
  {
   "cell_type": "markdown",
   "id": "671a0d06",
   "metadata": {},
   "source": [
    "# Prediksi Nilai Pembelian Perusahaan Berdasarkan Karakteristik dan Segmen Pasar\n",
    "Proyek Machine Learning untuk submission kelas Dicoding: Machine Learning\n",
    "\n",
    "**Pendekatan**: Regresi\n",
    "**Target**: Purchase Amount\n"
   ]
  },
  {
   "cell_type": "markdown",
   "id": "4a87550a",
   "metadata": {},
   "source": [
    "## 1. Pendahuluan\n",
    "Perusahaan membutuhkan strategi yang lebih baik untuk memprioritaskan pelanggan potensial. Dengan memprediksi `Purchase Amount` berdasarkan data historis, perusahaan dapat lebih efektif mengalokasikan sumber daya dan strategi pemasaran."
   ]
  },
  {
   "cell_type": "markdown",
   "id": "ae1a4005",
   "metadata": {},
   "source": [
    "## 2. Problem Domain\n",
    "- **Latar Belakang**: Data pembelian perusahaan dari berbagai negara dan industri\n",
    "- **Masalah**: Sulit memprediksi nilai pembelian perusahaan baru\n",
    "- **Solusi**: Gunakan machine learning untuk memprediksi nilai pembelian\n",
    "- **Manfaat**: Membantu tim sales fokus pada klien bernilai tinggi"
   ]
  },
  {
   "cell_type": "markdown",
   "id": "dd043b71",
   "metadata": {},
   "source": [
    "## 3. Data Understanding\n",
    "Kita akan menggunakan dataset dari Kaggle yang berisi informasi:\n",
    "- Nama perusahaan, negara, wilayah\n",
    "- Kategori produk, jumlah karyawan, revenue tahunan\n",
    "- Jumlah pembelian (`Purchase Amount`)\n",
    "- Segmen pelanggan\n"
   ]
  },
  {
   "cell_type": "code",
   "execution_count": null,
   "id": "2e50a341",
   "metadata": {},
   "outputs": [],
   "source": [
    "# Import library\n",
    "import pandas as pd\n",
    "import numpy as np\n",
    "import matplotlib.pyplot as plt\n",
    "import seaborn as sns\n",
    "from sklearn.model_selection import train_test_split\n",
    "from sklearn.preprocessing import LabelEncoder, StandardScaler\n",
    "from sklearn.linear_model import LinearRegression\n",
    "from sklearn.ensemble import RandomForestRegressor\n",
    "from sklearn.metrics import mean_absolute_error, mean_squared_error, r2_score"
   ]
  },
  {
   "cell_type": "code",
   "execution_count": null,
   "id": "4918f2c6",
   "metadata": {},
   "outputs": [],
   "source": [
    "# Load dataset\n",
    "# Gantilah path di bawah sesuai dengan lokasi file CSV kamu\n",
    "df = pd.read_csv('/content/company_purchasing.csv')\n",
    "df.head()"
   ]
  },
  {
   "cell_type": "markdown",
   "id": "f7a787f8",
   "metadata": {},
   "source": [
    "## 4. Data Preparation\n",
    "- Cek missing value\n",
    "- Encode kolom kategorikal\n",
    "- Normalisasi fitur numerik\n",
    "- Split data"
   ]
  },
  {
   "cell_type": "code",
   "execution_count": null,
   "id": "3607ac3a",
   "metadata": {},
   "outputs": [],
   "source": [
    "# Preprocessing dasar\n",
    "# Contoh kode encoding dan scaling\n",
    "cat_cols = ['Country', 'Region', 'Product Category', 'Customer Segment']\n",
    "num_cols = ['Employee Count', 'Annual Revenue']\n",
    "\n",
    "# Encode categorical\n",
    "le = LabelEncoder()\n",
    "for col in cat_cols:\n",
    "    df[col] = le.fit_transform(df[col])\n",
    "\n",
    "# Scale numerical\n",
    "scaler = StandardScaler()\n",
    "df[num_cols] = scaler.fit_transform(df[num_cols])"
   ]
  },
  {
   "cell_type": "markdown",
   "id": "d9423d54",
   "metadata": {},
   "source": [
    "## 5. Modeling\n",
    "Coba beberapa model regresi dan bandingkan performanya."
   ]
  },
  {
   "cell_type": "code",
   "execution_count": null,
   "id": "dc15b79e",
   "metadata": {},
   "outputs": [],
   "source": [
    "# Split data\n",
    "X = df.drop(['Company Name', 'Purchase Amount'], axis=1)\n",
    "y = df['Purchase Amount']\n",
    "\n",
    "X_train, X_test, y_train, y_test = train_test_split(X, y, test_size=0.2, random_state=42)"
   ]
  },
  {
   "cell_type": "code",
   "execution_count": null,
   "id": "f33ef3c7",
   "metadata": {},
   "outputs": [],
   "source": [
    "# Linear Regression\n",
    "lr = LinearRegression()\n",
    "lr.fit(X_train, y_train)\n",
    "y_pred_lr = lr.predict(X_test)"
   ]
  },
  {
   "cell_type": "markdown",
   "id": "d2666eed",
   "metadata": {},
   "source": [
    "## 6. Evaluation\n",
    "Gunakan MAE, RMSE, dan R² Score untuk mengukur performa model."
   ]
  },
  {
   "cell_type": "code",
   "execution_count": null,
   "id": "5c8526d0",
   "metadata": {},
   "outputs": [],
   "source": [
    "# Evaluasi Linear Regression\n",
    "mae = mean_absolute_error(y_test, y_pred_lr)\n",
    "rmse = np.sqrt(mean_squared_error(y_test, y_pred_lr))\n",
    "r2 = r2_score(y_test, y_pred_lr)\n",
    "\n",
    "print(f\"MAE: {mae:.2f}\")\n",
    "print(f\"RMSE: {rmse:.2f}\")\n",
    "print(f\"R²: {r2:.2f}\")"
   ]
  },
  {
   "cell_type": "markdown",
   "id": "13826ba3",
   "metadata": {},
   "source": [
    "## 7. Kesimpulan\n",
    "Model regresi dapat digunakan untuk memprediksi nilai pembelian berdasarkan karakteristik perusahaan.\n",
    "\n",
    "Langkah selanjutnya:\n",
    "- Coba model lain: Random Forest, XGBoost\n",
    "- Lakukan tuning parameter\n",
    "- Tambahkan visualisasi hasil prediksi vs aktual"
   ]
  }
 ],
 "metadata": {},
 "nbformat": 4,
 "nbformat_minor": 5
}
