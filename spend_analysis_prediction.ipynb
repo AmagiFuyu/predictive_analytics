{
  "cells": [
    {
      "cell_type": "markdown",
      "source": [
        "# Proyek Machine Learning: Prediksi Total Pengeluaran Bulanan dengan LSTM\n",
        "\n",
        "## Domain Proyek\n",
        "\n",
        "Dalam pengelolaan bisnis, salah satu tantangan utama adalah mengontrol dan memprediksi pengeluaran operasional secara akurat. Ketidakpastian dalam proyeksi anggaran bisa berdampak besar terhadap efisiensi keuangan perusahaan. Oleh karena itu, perusahaan membutuhkan sistem yang dapat membantu dalam melakukan prediksi pengeluaran berdasarkan data historis transaksi. Pemanfaatan teknologi machine learning, khususnya pendekatan time series forecasting dengan LSTM, menawarkan solusi untuk mempelajari pola pengeluaran dari masa lalu guna meramalkan pengeluaran di masa depan. Dengan prediksi yang akurat, perusahaan dapat mengelola anggaran lebih efisien, menghindari pemborosan, dan mendukung pengambilan keputusan strategis.\n",
        "\n",
        "## Business Understanding\n",
        "\n",
        "### Problem Statement\n",
        "Perusahaan mengalami kesulitan dalam memprediksi pengeluaran bulanannya akibat fluktuasi dalam volume transaksi pembelian. Hal ini menyulitkan dalam menyusun perencanaan anggaran dan strategi pengadaan.\n",
        "\n",
        "### Goals\n",
        "Membangun model prediksi yang dapat mengestimasi total pengeluaran bulanan perusahaan berdasarkan data historis transaksi. Tujuannya adalah untuk:\n",
        "- Memberikan estimasi pengeluaran dengan akurasi tinggi.\n",
        "- Meminimalisasi risiko pemborosan anggaran.\n",
        "- Mendukung pengambilan keputusan berbasis data.\n",
        "\n",
        "### Solution Statement\n",
        "Solusi yang diusulkan adalah membangun model Long Short-Term Memory (LSTM) untuk memprediksi total pengeluaran bulanan berdasarkan data time series dari transaksi pembelian. Model ini akan dilatih dari data historis dan digunakan sebagai alat bantu untuk divisi keuangan dalam menyusun anggaran.\n"
      ],
      "metadata": {
        "id": "beCySeizNsKj"
      },
      "id": "beCySeizNsKj"
    },
    {
      "cell_type": "markdown",
      "source": [
        "## 1. Import Library\n",
        "\n",
        "mengimpor berbagai library yang dibutuhkan. Library seperti `pandas` dan `numpy` digunakan untuk manipulasi data, `matplotlib` dan `seaborn` untuk visualisasi data, serta `tensorflow.keras` untuk membangun model deep learning.\n"
      ],
      "metadata": {
        "id": "U_gwf6M8ulYe"
      },
      "id": "U_gwf6M8ulYe"
    },
    {
      "cell_type": "code",
      "source": [
        "import pandas as pd\n",
        "import numpy as np\n",
        "import matplotlib.pyplot as plt\n",
        "import seaborn as sns\n",
        "from sklearn.preprocessing import MinMaxScaler\n",
        "from sklearn.metrics import mean_absolute_error, mean_squared_error\n",
        "from tensorflow.keras.models import Sequential\n",
        "from tensorflow.keras.layers import LSTM, Dense\n",
        "from tensorflow.keras.callbacks import EarlyStopping"
      ],
      "metadata": {
        "id": "bArbhf5Nupo1"
      },
      "id": "bArbhf5Nupo1",
      "execution_count": null,
      "outputs": []
    },
    {
      "cell_type": "markdown",
      "source": [
        "## 2. Load Dataset\n",
        "\n",
        "memuat dataset transaksi yang akan digunakan untuk analisis dan prediksi.\n"
      ],
      "metadata": {
        "id": "sj0GVjlBusOO"
      },
      "id": "sj0GVjlBusOO"
    },
    {
      "cell_type": "code",
      "source": [
        "df = pd.read_csv('/content/spend_analysis_dataset.csv')"
      ],
      "metadata": {
        "id": "4klgiHMguyqF"
      },
      "id": "4klgiHMguyqF",
      "execution_count": null,
      "outputs": []
    },
    {
      "cell_type": "markdown",
      "source": [
        "## 3. Data Understanding\n",
        "Pada tahapan ini kita melihat struktur awal data.\n",
        "\n",
        "### Sumber Data\n",
        "Dataset yang digunakan adalah \"Company Purchasing Dataset\" yang tersedia di Kaggle:  \n",
        "🔗 https://www.kaggle.com/datasets/shahriarkabir/company-purchasing-dataset\n",
        "\n",
        "### Jumlah Data\n",
        "- **Baris (rows):** 500\n",
        "- **Kolom (columns):** 9\n",
        "\n",
        "### Kondisi Data\n",
        "- **Missing values:** Tidak ditemukan.\n",
        "- **Data duplikat:** Tidak ada duplikasi.\n",
        "- **Outlier:** Terdapat outlier pada kolom `TotalCost`, teridentifikasi melalui EDA.\n",
        "\n",
        "### Deskripsi Fitur\n",
        "- `TransactionID`: ID unik untuk setiap transaksi\n",
        "- `ItemName`: Nama barang yang dibeli\n",
        "- `Category`: Kategori barang\n",
        "- `Quantity`: Jumlah unit barang yang dibeli\n",
        "- `UnitPrice`: Harga satuan barang\n",
        "- `TotalCost`: Biaya total untuk transaksi (Quantity × UnitPrice)\n",
        "- `PurchaseDate`: Tanggal pembelian (digunakan sebagai penanda waktu)\n",
        "- `Supplier`: Pemasok barang\n",
        "- `Buyer`: Nama pembeli\n",
        "\n",
        "Hanya kolom `PurchaseDate` dan `TotalCost` yang digunakan untuk keperluan prediksi time series.\n"
      ],
      "metadata": {
        "id": "hXlNChaAvGSt"
      },
      "id": "hXlNChaAvGSt"
    },
    {
      "cell_type": "markdown",
      "source": [
        "### Menampilkan 5 data teratas\n",
        "Digunakan untuk melihat struktur awal data."
      ],
      "metadata": {
        "id": "74N-ok3I6SiQ"
      },
      "id": "74N-ok3I6SiQ"
    },
    {
      "cell_type": "code",
      "source": [
        "print(df.head())"
      ],
      "metadata": {
        "colab": {
          "base_uri": "https://localhost:8080/"
        },
        "id": "Gp7LGvkpu9Te",
        "outputId": "897e4e88-760d-4e4a-b4f8-f33d91bc4167"
      },
      "id": "Gp7LGvkpu9Te",
      "execution_count": null,
      "outputs": [
        {
          "output_type": "stream",
          "name": "stdout",
          "text": [
            "  TransactionID                 ItemName         Category  Quantity  \\\n",
            "0        TXN001               Desk Chair        Furniture        10   \n",
            "1        TXN002                  Stapler  Office Supplies        16   \n",
            "2        TXN003  Annual Software License         Software         1   \n",
            "3        TXN004                  Notepad       Stationery        13   \n",
            "4        TXN005                  Notepad       Stationery        19   \n",
            "\n",
            "   UnitPrice  TotalCost PurchaseDate         Supplier            Buyer  \n",
            "0     113.15    1131.50   2024-04-19    TechMart Inc.     Kelly Joseph  \n",
            "1      12.62     201.92   2024-07-06  CloudSoft Corp.     Kelly Joseph  \n",
            "2    5649.34    5649.34   2024-09-10    TechMart Inc.     Kelly Joseph  \n",
            "3       2.92      37.96   2024-01-21  FurniWorks Ltd.     Luis Holland  \n",
            "4       1.39      26.41   2024-02-03    TechMart Inc.  Cynthia Jenkins  \n"
          ]
        }
      ]
    },
    {
      "cell_type": "markdown",
      "source": [
        "### Cek informasi dataset\n",
        "Digunakan untuk mengetahui jumlah kolom, tipe data, dan apakah ada nilai kosong.\n"
      ],
      "metadata": {
        "id": "1F3fhM3K6VFQ"
      },
      "id": "1F3fhM3K6VFQ"
    },
    {
      "cell_type": "code",
      "source": [
        "print(df.info())"
      ],
      "metadata": {
        "colab": {
          "base_uri": "https://localhost:8080/"
        },
        "id": "HwJs4dgIvOSm",
        "outputId": "00e57de7-bfee-4e55-dfb2-6b4ff86e26a8"
      },
      "id": "HwJs4dgIvOSm",
      "execution_count": null,
      "outputs": [
        {
          "output_type": "stream",
          "name": "stdout",
          "text": [
            "<class 'pandas.core.frame.DataFrame'>\n",
            "RangeIndex: 500 entries, 0 to 499\n",
            "Data columns (total 9 columns):\n",
            " #   Column         Non-Null Count  Dtype  \n",
            "---  ------         --------------  -----  \n",
            " 0   TransactionID  500 non-null    object \n",
            " 1   ItemName       500 non-null    object \n",
            " 2   Category       500 non-null    object \n",
            " 3   Quantity       500 non-null    int64  \n",
            " 4   UnitPrice      500 non-null    float64\n",
            " 5   TotalCost      500 non-null    float64\n",
            " 6   PurchaseDate   500 non-null    object \n",
            " 7   Supplier       500 non-null    object \n",
            " 8   Buyer          500 non-null    object \n",
            "dtypes: float64(2), int64(1), object(6)\n",
            "memory usage: 35.3+ KB\n",
            "None\n"
          ]
        }
      ]
    },
    {
      "cell_type": "markdown",
      "source": [
        "### Cek missing values\n",
        "Penting untuk melihat apakah ada data yang hilang dan perlu ditangani."
      ],
      "metadata": {
        "id": "8ld4pbPw6Xow"
      },
      "id": "8ld4pbPw6Xow"
    },
    {
      "cell_type": "code",
      "source": [
        "print(df.isnull().sum())"
      ],
      "metadata": {
        "colab": {
          "base_uri": "https://localhost:8080/"
        },
        "id": "7gQJWIuFvUfd",
        "outputId": "03fae351-d29a-41ce-e990-072523d15c51"
      },
      "id": "7gQJWIuFvUfd",
      "execution_count": null,
      "outputs": [
        {
          "output_type": "stream",
          "name": "stdout",
          "text": [
            "TransactionID    0\n",
            "ItemName         0\n",
            "Category         0\n",
            "Quantity         0\n",
            "UnitPrice        0\n",
            "TotalCost        0\n",
            "PurchaseDate     0\n",
            "Supplier         0\n",
            "Buyer            0\n",
            "dtype: int64\n"
          ]
        }
      ]
    },
    {
      "cell_type": "markdown",
      "source": [
        "### Cek duplikat\n",
        "melihat apakah ada data duplikat"
      ],
      "metadata": {
        "id": "XyU8dlLC6aLY"
      },
      "id": "XyU8dlLC6aLY"
    },
    {
      "cell_type": "code",
      "source": [
        "print(df.duplicated().sum())"
      ],
      "metadata": {
        "colab": {
          "base_uri": "https://localhost:8080/"
        },
        "id": "vouuvz60vX0m",
        "outputId": "5ebd76eb-7811-40a1-e39a-5f5d7813c9c1"
      },
      "id": "vouuvz60vX0m",
      "execution_count": null,
      "outputs": [
        {
          "output_type": "stream",
          "name": "stdout",
          "text": [
            "0\n"
          ]
        }
      ]
    },
    {
      "cell_type": "markdown",
      "source": [
        "## Exploratory Data Analysis (EDA)\n",
        "melakukan eksplorasi data"
      ],
      "metadata": {
        "id": "oIb6CNaH6c_x"
      },
      "id": "oIb6CNaH6c_x"
    },
    {
      "cell_type": "markdown",
      "source": [
        "### Statistik Deskriptif\n",
        "Memberikan gambaran umum distribusi dan nilai-nilai statistik tiap fitur numerik."
      ],
      "metadata": {
        "id": "TTN0ORC86tMp"
      },
      "id": "TTN0ORC86tMp"
    },
    {
      "cell_type": "code",
      "source": [
        "df.describe()"
      ],
      "metadata": {
        "colab": {
          "base_uri": "https://localhost:8080/",
          "height": 300
        },
        "id": "9ru_8xVc5zlp",
        "outputId": "10868843-fa10-4680-a33b-3e4603a68d5b"
      },
      "id": "9ru_8xVc5zlp",
      "execution_count": null,
      "outputs": [
        {
          "output_type": "execute_result",
          "data": {
            "text/plain": [
              "         Quantity    UnitPrice    TotalCost\n",
              "count  500.000000   500.000000    500.00000\n",
              "mean     9.640000   854.245100   2481.16106\n",
              "std      6.168834  2132.890832   3527.35316\n",
              "min      1.000000     1.060000      1.56000\n",
              "25%      4.000000    14.380000    145.92750\n",
              "50%     10.000000   143.595000    918.56000\n",
              "75%     15.000000   287.925000   3123.56750\n",
              "max     20.000000  9909.240000  18494.60000"
            ],
            "text/html": [
              "\n",
              "  <div id=\"df-babc9e1f-2450-42b7-aed0-64d38b92f947\" class=\"colab-df-container\">\n",
              "    <div>\n",
              "<style scoped>\n",
              "    .dataframe tbody tr th:only-of-type {\n",
              "        vertical-align: middle;\n",
              "    }\n",
              "\n",
              "    .dataframe tbody tr th {\n",
              "        vertical-align: top;\n",
              "    }\n",
              "\n",
              "    .dataframe thead th {\n",
              "        text-align: right;\n",
              "    }\n",
              "</style>\n",
              "<table border=\"1\" class=\"dataframe\">\n",
              "  <thead>\n",
              "    <tr style=\"text-align: right;\">\n",
              "      <th></th>\n",
              "      <th>Quantity</th>\n",
              "      <th>UnitPrice</th>\n",
              "      <th>TotalCost</th>\n",
              "    </tr>\n",
              "  </thead>\n",
              "  <tbody>\n",
              "    <tr>\n",
              "      <th>count</th>\n",
              "      <td>500.000000</td>\n",
              "      <td>500.000000</td>\n",
              "      <td>500.00000</td>\n",
              "    </tr>\n",
              "    <tr>\n",
              "      <th>mean</th>\n",
              "      <td>9.640000</td>\n",
              "      <td>854.245100</td>\n",
              "      <td>2481.16106</td>\n",
              "    </tr>\n",
              "    <tr>\n",
              "      <th>std</th>\n",
              "      <td>6.168834</td>\n",
              "      <td>2132.890832</td>\n",
              "      <td>3527.35316</td>\n",
              "    </tr>\n",
              "    <tr>\n",
              "      <th>min</th>\n",
              "      <td>1.000000</td>\n",
              "      <td>1.060000</td>\n",
              "      <td>1.56000</td>\n",
              "    </tr>\n",
              "    <tr>\n",
              "      <th>25%</th>\n",
              "      <td>4.000000</td>\n",
              "      <td>14.380000</td>\n",
              "      <td>145.92750</td>\n",
              "    </tr>\n",
              "    <tr>\n",
              "      <th>50%</th>\n",
              "      <td>10.000000</td>\n",
              "      <td>143.595000</td>\n",
              "      <td>918.56000</td>\n",
              "    </tr>\n",
              "    <tr>\n",
              "      <th>75%</th>\n",
              "      <td>15.000000</td>\n",
              "      <td>287.925000</td>\n",
              "      <td>3123.56750</td>\n",
              "    </tr>\n",
              "    <tr>\n",
              "      <th>max</th>\n",
              "      <td>20.000000</td>\n",
              "      <td>9909.240000</td>\n",
              "      <td>18494.60000</td>\n",
              "    </tr>\n",
              "  </tbody>\n",
              "</table>\n",
              "</div>\n",
              "    <div class=\"colab-df-buttons\">\n",
              "\n",
              "  <div class=\"colab-df-container\">\n",
              "    <button class=\"colab-df-convert\" onclick=\"convertToInteractive('df-babc9e1f-2450-42b7-aed0-64d38b92f947')\"\n",
              "            title=\"Convert this dataframe to an interactive table.\"\n",
              "            style=\"display:none;\">\n",
              "\n",
              "  <svg xmlns=\"http://www.w3.org/2000/svg\" height=\"24px\" viewBox=\"0 -960 960 960\">\n",
              "    <path d=\"M120-120v-720h720v720H120Zm60-500h600v-160H180v160Zm220 220h160v-160H400v160Zm0 220h160v-160H400v160ZM180-400h160v-160H180v160Zm440 0h160v-160H620v160ZM180-180h160v-160H180v160Zm440 0h160v-160H620v160Z\"/>\n",
              "  </svg>\n",
              "    </button>\n",
              "\n",
              "  <style>\n",
              "    .colab-df-container {\n",
              "      display:flex;\n",
              "      gap: 12px;\n",
              "    }\n",
              "\n",
              "    .colab-df-convert {\n",
              "      background-color: #E8F0FE;\n",
              "      border: none;\n",
              "      border-radius: 50%;\n",
              "      cursor: pointer;\n",
              "      display: none;\n",
              "      fill: #1967D2;\n",
              "      height: 32px;\n",
              "      padding: 0 0 0 0;\n",
              "      width: 32px;\n",
              "    }\n",
              "\n",
              "    .colab-df-convert:hover {\n",
              "      background-color: #E2EBFA;\n",
              "      box-shadow: 0px 1px 2px rgba(60, 64, 67, 0.3), 0px 1px 3px 1px rgba(60, 64, 67, 0.15);\n",
              "      fill: #174EA6;\n",
              "    }\n",
              "\n",
              "    .colab-df-buttons div {\n",
              "      margin-bottom: 4px;\n",
              "    }\n",
              "\n",
              "    [theme=dark] .colab-df-convert {\n",
              "      background-color: #3B4455;\n",
              "      fill: #D2E3FC;\n",
              "    }\n",
              "\n",
              "    [theme=dark] .colab-df-convert:hover {\n",
              "      background-color: #434B5C;\n",
              "      box-shadow: 0px 1px 3px 1px rgba(0, 0, 0, 0.15);\n",
              "      filter: drop-shadow(0px 1px 2px rgba(0, 0, 0, 0.3));\n",
              "      fill: #FFFFFF;\n",
              "    }\n",
              "  </style>\n",
              "\n",
              "    <script>\n",
              "      const buttonEl =\n",
              "        document.querySelector('#df-babc9e1f-2450-42b7-aed0-64d38b92f947 button.colab-df-convert');\n",
              "      buttonEl.style.display =\n",
              "        google.colab.kernel.accessAllowed ? 'block' : 'none';\n",
              "\n",
              "      async function convertToInteractive(key) {\n",
              "        const element = document.querySelector('#df-babc9e1f-2450-42b7-aed0-64d38b92f947');\n",
              "        const dataTable =\n",
              "          await google.colab.kernel.invokeFunction('convertToInteractive',\n",
              "                                                    [key], {});\n",
              "        if (!dataTable) return;\n",
              "\n",
              "        const docLinkHtml = 'Like what you see? Visit the ' +\n",
              "          '<a target=\"_blank\" href=https://colab.research.google.com/notebooks/data_table.ipynb>data table notebook</a>'\n",
              "          + ' to learn more about interactive tables.';\n",
              "        element.innerHTML = '';\n",
              "        dataTable['output_type'] = 'display_data';\n",
              "        await google.colab.output.renderOutput(dataTable, element);\n",
              "        const docLink = document.createElement('div');\n",
              "        docLink.innerHTML = docLinkHtml;\n",
              "        element.appendChild(docLink);\n",
              "      }\n",
              "    </script>\n",
              "  </div>\n",
              "\n",
              "\n",
              "    <div id=\"df-c4db3abd-1fcc-4423-8aaf-308af4a49cd5\">\n",
              "      <button class=\"colab-df-quickchart\" onclick=\"quickchart('df-c4db3abd-1fcc-4423-8aaf-308af4a49cd5')\"\n",
              "                title=\"Suggest charts\"\n",
              "                style=\"display:none;\">\n",
              "\n",
              "<svg xmlns=\"http://www.w3.org/2000/svg\" height=\"24px\"viewBox=\"0 0 24 24\"\n",
              "     width=\"24px\">\n",
              "    <g>\n",
              "        <path d=\"M19 3H5c-1.1 0-2 .9-2 2v14c0 1.1.9 2 2 2h14c1.1 0 2-.9 2-2V5c0-1.1-.9-2-2-2zM9 17H7v-7h2v7zm4 0h-2V7h2v10zm4 0h-2v-4h2v4z\"/>\n",
              "    </g>\n",
              "</svg>\n",
              "      </button>\n",
              "\n",
              "<style>\n",
              "  .colab-df-quickchart {\n",
              "      --bg-color: #E8F0FE;\n",
              "      --fill-color: #1967D2;\n",
              "      --hover-bg-color: #E2EBFA;\n",
              "      --hover-fill-color: #174EA6;\n",
              "      --disabled-fill-color: #AAA;\n",
              "      --disabled-bg-color: #DDD;\n",
              "  }\n",
              "\n",
              "  [theme=dark] .colab-df-quickchart {\n",
              "      --bg-color: #3B4455;\n",
              "      --fill-color: #D2E3FC;\n",
              "      --hover-bg-color: #434B5C;\n",
              "      --hover-fill-color: #FFFFFF;\n",
              "      --disabled-bg-color: #3B4455;\n",
              "      --disabled-fill-color: #666;\n",
              "  }\n",
              "\n",
              "  .colab-df-quickchart {\n",
              "    background-color: var(--bg-color);\n",
              "    border: none;\n",
              "    border-radius: 50%;\n",
              "    cursor: pointer;\n",
              "    display: none;\n",
              "    fill: var(--fill-color);\n",
              "    height: 32px;\n",
              "    padding: 0;\n",
              "    width: 32px;\n",
              "  }\n",
              "\n",
              "  .colab-df-quickchart:hover {\n",
              "    background-color: var(--hover-bg-color);\n",
              "    box-shadow: 0 1px 2px rgba(60, 64, 67, 0.3), 0 1px 3px 1px rgba(60, 64, 67, 0.15);\n",
              "    fill: var(--button-hover-fill-color);\n",
              "  }\n",
              "\n",
              "  .colab-df-quickchart-complete:disabled,\n",
              "  .colab-df-quickchart-complete:disabled:hover {\n",
              "    background-color: var(--disabled-bg-color);\n",
              "    fill: var(--disabled-fill-color);\n",
              "    box-shadow: none;\n",
              "  }\n",
              "\n",
              "  .colab-df-spinner {\n",
              "    border: 2px solid var(--fill-color);\n",
              "    border-color: transparent;\n",
              "    border-bottom-color: var(--fill-color);\n",
              "    animation:\n",
              "      spin 1s steps(1) infinite;\n",
              "  }\n",
              "\n",
              "  @keyframes spin {\n",
              "    0% {\n",
              "      border-color: transparent;\n",
              "      border-bottom-color: var(--fill-color);\n",
              "      border-left-color: var(--fill-color);\n",
              "    }\n",
              "    20% {\n",
              "      border-color: transparent;\n",
              "      border-left-color: var(--fill-color);\n",
              "      border-top-color: var(--fill-color);\n",
              "    }\n",
              "    30% {\n",
              "      border-color: transparent;\n",
              "      border-left-color: var(--fill-color);\n",
              "      border-top-color: var(--fill-color);\n",
              "      border-right-color: var(--fill-color);\n",
              "    }\n",
              "    40% {\n",
              "      border-color: transparent;\n",
              "      border-right-color: var(--fill-color);\n",
              "      border-top-color: var(--fill-color);\n",
              "    }\n",
              "    60% {\n",
              "      border-color: transparent;\n",
              "      border-right-color: var(--fill-color);\n",
              "    }\n",
              "    80% {\n",
              "      border-color: transparent;\n",
              "      border-right-color: var(--fill-color);\n",
              "      border-bottom-color: var(--fill-color);\n",
              "    }\n",
              "    90% {\n",
              "      border-color: transparent;\n",
              "      border-bottom-color: var(--fill-color);\n",
              "    }\n",
              "  }\n",
              "</style>\n",
              "\n",
              "      <script>\n",
              "        async function quickchart(key) {\n",
              "          const quickchartButtonEl =\n",
              "            document.querySelector('#' + key + ' button');\n",
              "          quickchartButtonEl.disabled = true;  // To prevent multiple clicks.\n",
              "          quickchartButtonEl.classList.add('colab-df-spinner');\n",
              "          try {\n",
              "            const charts = await google.colab.kernel.invokeFunction(\n",
              "                'suggestCharts', [key], {});\n",
              "          } catch (error) {\n",
              "            console.error('Error during call to suggestCharts:', error);\n",
              "          }\n",
              "          quickchartButtonEl.classList.remove('colab-df-spinner');\n",
              "          quickchartButtonEl.classList.add('colab-df-quickchart-complete');\n",
              "        }\n",
              "        (() => {\n",
              "          let quickchartButtonEl =\n",
              "            document.querySelector('#df-c4db3abd-1fcc-4423-8aaf-308af4a49cd5 button');\n",
              "          quickchartButtonEl.style.display =\n",
              "            google.colab.kernel.accessAllowed ? 'block' : 'none';\n",
              "        })();\n",
              "      </script>\n",
              "    </div>\n",
              "\n",
              "    </div>\n",
              "  </div>\n"
            ],
            "application/vnd.google.colaboratory.intrinsic+json": {
              "type": "dataframe",
              "summary": "{\n  \"name\": \"df\",\n  \"rows\": 8,\n  \"fields\": [\n    {\n      \"column\": \"Quantity\",\n      \"properties\": {\n        \"dtype\": \"number\",\n        \"std\": 173.55753660002958,\n        \"min\": 1.0,\n        \"max\": 500.0,\n        \"num_unique_values\": 8,\n        \"samples\": [\n          9.64,\n          10.0,\n          500.0\n        ],\n        \"semantic_type\": \"\",\n        \"description\": \"\"\n      }\n    },\n    {\n      \"column\": \"UnitPrice\",\n      \"properties\": {\n        \"dtype\": \"number\",\n        \"std\": 3377.889871575868,\n        \"min\": 1.06,\n        \"max\": 9909.24,\n        \"num_unique_values\": 8,\n        \"samples\": [\n          854.2451,\n          143.595,\n          500.0\n        ],\n        \"semantic_type\": \"\",\n        \"description\": \"\"\n      }\n    },\n    {\n      \"column\": \"TotalCost\",\n      \"properties\": {\n        \"dtype\": \"number\",\n        \"std\": 6152.739267263335,\n        \"min\": 1.56,\n        \"max\": 18494.6,\n        \"num_unique_values\": 8,\n        \"samples\": [\n          2481.1610599999995,\n          918.56,\n          500.0\n        ],\n        \"semantic_type\": \"\",\n        \"description\": \"\"\n      }\n    }\n  ]\n}"
            }
          },
          "metadata": {},
          "execution_count": 8
        }
      ]
    },
    {
      "cell_type": "markdown",
      "source": [
        "### Plot distribusi TotalCost\n",
        "Visualisasi distribusi kolom target (TotalCost) untuk mengidentifikasi outlier dan pola umum.\n",
        "\n"
      ],
      "metadata": {
        "id": "To7ATQAP65nx"
      },
      "id": "To7ATQAP65nx"
    },
    {
      "cell_type": "code",
      "source": [
        "plt.figure(figsize=(8,4))\n",
        "sns.histplot(df['TotalCost'], kde=True)\n",
        "plt.title('Distribusi TotalCost')\n",
        "plt.xlabel('TotalCost')\n",
        "plt.ylabel('Frekuensi')\n",
        "plt.grid()\n",
        "plt.show()"
      ],
      "metadata": {
        "colab": {
          "base_uri": "https://localhost:8080/",
          "height": 410
        },
        "id": "T6TWgPbd69mJ",
        "outputId": "66b61d14-edf6-4c95-eeb4-781c9cc9adb5"
      },
      "id": "T6TWgPbd69mJ",
      "execution_count": null,
      "outputs": [
        {
          "output_type": "display_data",
          "data": {
            "text/plain": [
              "<Figure size 800x400 with 1 Axes>"
            ],
            "image/png": "[encoded data removed]"
          },
          "metadata": {}
        }
      ]
    },
    {
      "cell_type": "markdown",
      "source": [
        "### Korelasi Quantity, UnitPrice, TotalCost\n",
        "Menampilkan korelasi antar fitur numerik untuk memahami hubungan antar fitur.\n"
      ],
      "metadata": {
        "id": "_uihfnPs7B7x"
      },
      "id": "_uihfnPs7B7x"
    },
    {
      "cell_type": "code",
      "source": [
        "plt.figure(figsize=(6,5))\n",
        "sns.heatmap(df[['Quantity', 'UnitPrice', 'TotalCost']].corr(), annot=True, cmap='coolwarm')\n",
        "plt.title('Heatmap Korelasi Fitur Numerik')\n",
        "plt.grid()\n",
        "plt.show()"
      ],
      "metadata": {
        "colab": {
          "base_uri": "https://localhost:8080/",
          "height": 468
        },
        "id": "AxXdBCCf7E5R",
        "outputId": "224f051f-4ac8-41c7-800c-61b52de46bd1"
      },
      "id": "AxXdBCCf7E5R",
      "execution_count": null,
      "outputs": [
        {
          "output_type": "display_data",
          "data": {
            "text/plain": [
              "<Figure size 600x500 with 2 Axes>"
            ],
            "image/png": "[encoded data removed]"
          },
          "metadata": {}
        }
      ]
    },
    {
      "cell_type": "markdown",
      "source": [
        "## 4. Data Preparation"
      ],
      "metadata": {
        "id": "rJgMAwlavnJN"
      },
      "id": "rJgMAwlavnJN"
    },
    {
      "cell_type": "markdown",
      "source": [
        "### Konversi Kolom Tanggal dan Set Index\n",
        "Mengubah kolom tanggal menjadi format datetime dan menjadikannya index agar bisa digunakan untuk resampling."
      ],
      "metadata": {
        "id": "BT22JE0_1ucx"
      },
      "id": "BT22JE0_1ucx"
    },
    {
      "cell_type": "code",
      "source": [
        "df['PurchaseDate'] = pd.to_datetime(df['PurchaseDate'])\n",
        "df = df[['PurchaseDate', 'TotalCost']]\n",
        "df.set_index('PurchaseDate', inplace=True)"
      ],
      "metadata": {
        "id": "AIPtB44x1u64"
      },
      "id": "AIPtB44x1u64",
      "execution_count": null,
      "outputs": []
    },
    {
      "cell_type": "markdown",
      "source": [
        "### Resample Data Bulanan\n",
        "Mengelompokkan data per bulan agar pola musiman dapat dianalisis."
      ],
      "metadata": {
        "id": "6hfKxQhG2Fm5"
      },
      "id": "6hfKxQhG2Fm5"
    },
    {
      "cell_type": "code",
      "source": [
        "df_monthly = df.resample('M').sum()"
      ],
      "metadata": {
        "colab": {
          "base_uri": "https://localhost:8080/"
        },
        "id": "xqQAsnFq2GYh",
        "outputId": "a61399f2-0b33-4c8d-91d8-794208767878"
      },
      "id": "xqQAsnFq2GYh",
      "execution_count": null,
      "outputs": [
        {
          "output_type": "stream",
          "name": "stderr",
          "text": [
            "<ipython-input-12-47a25ff98584>:1: FutureWarning: 'M' is deprecated and will be removed in a future version, please use 'ME' instead.\n",
            "  df_monthly = df.resample('M').sum()\n"
          ]
        }
      ]
    },
    {
      "cell_type": "markdown",
      "source": [
        "### Scaling dan Membuat Windowed Dataset\n",
        "LSTM membutuhkan data dalam bentuk yang terstandardisasi dan dalam bentuk window time series."
      ],
      "metadata": {
        "id": "cZCCGuSu2M2Z"
      },
      "id": "cZCCGuSu2M2Z"
    },
    {
      "cell_type": "code",
      "source": [
        "scaler = MinMaxScaler()\n",
        "df_scaled = scaler.fit_transform(df_monthly)\n",
        "\n",
        "def create_windowed_dataset(series, window_size):\n",
        "    X, y = [], []\n",
        "    for i in range(len(series) - window_size):\n",
        "        X.append(series[i:i+window_size])\n",
        "        y.append(series[i+window_size])\n",
        "    return np.array(X), np.array(y)\n",
        "\n",
        "window_size = 3\n",
        "X, y = create_windowed_dataset(df_scaled, window_size)\n",
        "\n",
        "split_idx = int(len(X)*0.8)\n",
        "X_train, X_test = X[:split_idx], X[split_idx:]\n",
        "y_train, y_test = y[:split_idx], y[split_idx:]"
      ],
      "metadata": {
        "id": "Yxg52qg22N-B"
      },
      "id": "Yxg52qg22N-B",
      "execution_count": null,
      "outputs": []
    },
    {
      "cell_type": "markdown",
      "source": [
        "## 5. Modeling"
      ],
      "metadata": {
        "id": "Ca-B5j-hwMau"
      },
      "id": "Ca-B5j-hwMau"
    },
    {
      "cell_type": "markdown",
      "source": [
        "### Model 1: LSTM\n",
        "\n",
        "#### Cara Kerja:\n",
        "LSTM (Long Short-Term Memory) adalah jenis Recurrent Neural Network (RNN) yang digunakan untuk menangani data sekuensial seperti data time series. LSTM memiliki kemampuan untuk mengingat informasi dalam jangka panjang, sehingga cocok untuk prediksi berdasarkan urutan waktu.\n",
        "\n",
        "#### Arsitektur dan Parameter:\n",
        "- `LSTM(64, activation='relu')`: Layer LSTM dengan 64 unit dan fungsi aktivasi ReLU.\n",
        "- `Dense(1)`: Layer output untuk prediksi nilai tunggal.\n",
        "- Optimizer: `adam`, Loss function: `mse` (Mean Squared Error).\n",
        "- Parameter lain menggunakan default."
      ],
      "metadata": {
        "id": "bj09C40Q2Y_Z"
      },
      "id": "bj09C40Q2Y_Z"
    },
    {
      "cell_type": "code",
      "source": [
        "#LTSM\n",
        "model = Sequential([\n",
        "    LSTM(64, activation='relu', input_shape=(window_size, 1)),\n",
        "    Dense(1)\n",
        "])\n",
        "\n",
        "model.compile(optimizer='adam', loss='mse')\n"
      ],
      "metadata": {
        "id": "Ps9T0IC2wKWu",
        "colab": {
          "base_uri": "https://localhost:8080/"
        },
        "outputId": "3723f662-3ec0-4433-d4ff-6e54a6e7252f"
      },
      "id": "Ps9T0IC2wKWu",
      "execution_count": null,
      "outputs": [
        {
          "output_type": "stream",
          "name": "stderr",
          "text": [
            "/usr/local/lib/python3.11/dist-packages/keras/src/layers/rnn/rnn.py:200: UserWarning: Do not pass an `input_shape`/`input_dim` argument to a layer. When using Sequential models, prefer using an `Input(shape)` object as the first layer in the model instead.\n",
            "  super().__init__(**kwargs)\n"
          ]
        }
      ]
    },
    {
      "cell_type": "markdown",
      "source": [
        "## 6. Training\n",
        "Model dilatih dengan data training, dan menggunakan early stopping untuk menghentikan pelatihan jika validasi tidak membaik dalam 10 epoch berturut-turut.\n"
      ],
      "metadata": {
        "id": "p8JAX10Sxc2G"
      },
      "id": "p8JAX10Sxc2G"
    },
    {
      "cell_type": "code",
      "source": [
        "history = model.fit(\n",
        "    X_train, y_train,\n",
        "    epochs=130,\n",
        "    validation_data=(X_test, y_test),\n",
        "    callbacks=[EarlyStopping(patience=10, restore_best_weights=True)],\n",
        "    verbose=1\n",
        ")"
      ],
      "metadata": {
        "colab": {
          "base_uri": "https://localhost:8080/"
        },
        "id": "AAPPO_-2xaBG",
        "outputId": "f087ba66-102c-4c3f-e745-4e2ecdbcb90f"
      },
      "id": "AAPPO_-2xaBG",
      "execution_count": null,
      "outputs": [
        {
          "output_type": "stream",
          "name": "stdout",
          "text": [
            "Epoch 1/130\n",
            "\u001b[1m1/1\u001b[0m \u001b[32m━━━━━━━━━━━━━━━━━━━━\u001b[0m\u001b[37m\u001b[0m \u001b[1m2s\u001b[0m 2s/step - loss: 0.5349 - val_loss: 0.4892\n",
            "Epoch 2/130\n",
            "\u001b[1m1/1\u001b[0m \u001b[32m━━━━━━━━━━━━━━━━━━━━\u001b[0m\u001b[37m\u001b[0m \u001b[1m0s\u001b[0m 81ms/step - loss: 0.5262 - val_loss: 0.4757\n",
            "Epoch 3/130\n",
            "\u001b[1m1/1\u001b[0m \u001b[32m━━━━━━━━━━━━━━━━━━━━\u001b[0m\u001b[37m\u001b[0m \u001b[1m0s\u001b[0m 75ms/step - loss: 0.5178 - val_loss: 0.4626\n",
            "Epoch 4/130\n",
            "\u001b[1m1/1\u001b[0m \u001b[32m━━━━━━━━━━━━━━━━━━━━\u001b[0m\u001b[37m\u001b[0m \u001b[1m0s\u001b[0m 81ms/step - loss: 0.5097 - val_loss: 0.4498\n",
            "Epoch 5/130\n",
            "\u001b[1m1/1\u001b[0m \u001b[32m━━━━━━━━━━━━━━━━━━━━\u001b[0m\u001b[37m\u001b[0m \u001b[1m0s\u001b[0m 83ms/step - loss: 0.5020 - val_loss: 0.4374\n",
            "Epoch 6/130\n",
            "\u001b[1m1/1\u001b[0m \u001b[32m━━━━━━━━━━━━━━━━━━━━\u001b[0m\u001b[37m\u001b[0m \u001b[1m0s\u001b[0m 136ms/step - loss: 0.4945 - val_loss: 0.4253\n",
            "Epoch 7/130\n",
            "\u001b[1m1/1\u001b[0m \u001b[32m━━━━━━━━━━━━━━━━━━━━\u001b[0m\u001b[37m\u001b[0m \u001b[1m0s\u001b[0m 80ms/step - loss: 0.4871 - val_loss: 0.4134\n",
            "Epoch 8/130\n",
            "\u001b[1m1/1\u001b[0m \u001b[32m━━━━━━━━━━━━━━━━━━━━\u001b[0m\u001b[37m\u001b[0m \u001b[1m0s\u001b[0m 88ms/step - loss: 0.4799 - val_loss: 0.4017\n",
            "Epoch 9/130\n",
            "\u001b[1m1/1\u001b[0m \u001b[32m━━━━━━━━━━━━━━━━━━━━\u001b[0m\u001b[37m\u001b[0m \u001b[1m0s\u001b[0m 136ms/step - loss: 0.4728 - val_loss: 0.3903\n",
            "Epoch 10/130\n",
            "\u001b[1m1/1\u001b[0m \u001b[32m━━━━━━━━━━━━━━━━━━━━\u001b[0m\u001b[37m\u001b[0m \u001b[1m0s\u001b[0m 84ms/step - loss: 0.4659 - val_loss: 0.3790\n",
            "Epoch 11/130\n",
            "\u001b[1m1/1\u001b[0m \u001b[32m━━━━━━━━━━━━━━━━━━━━\u001b[0m\u001b[37m\u001b[0m \u001b[1m0s\u001b[0m 80ms/step - loss: 0.4590 - val_loss: 0.3679\n",
            "Epoch 12/130\n",
            "\u001b[1m1/1\u001b[0m \u001b[32m━━━━━━━━━━━━━━━━━━━━\u001b[0m\u001b[37m\u001b[0m \u001b[1m0s\u001b[0m 140ms/step - loss: 0.4522 - val_loss: 0.3570\n",
            "Epoch 13/130\n",
            "\u001b[1m1/1\u001b[0m \u001b[32m━━━━━━━━━━━━━━━━━━━━\u001b[0m\u001b[37m\u001b[0m \u001b[1m0s\u001b[0m 139ms/step - loss: 0.4455 - val_loss: 0.3465\n",
            "Epoch 14/130\n",
            "\u001b[1m1/1\u001b[0m \u001b[32m━━━━━━━━━━━━━━━━━━━━\u001b[0m\u001b[37m\u001b[0m \u001b[1m0s\u001b[0m 78ms/step - loss: 0.4389 - val_loss: 0.3361\n",
            "Epoch 15/130\n",
            "\u001b[1m1/1\u001b[0m \u001b[32m━━━━━━━━━━━━━━━━━━━━\u001b[0m\u001b[37m\u001b[0m \u001b[1m0s\u001b[0m 77ms/step - loss: 0.4323 - val_loss: 0.3257\n",
            "Epoch 16/130\n",
            "\u001b[1m1/1\u001b[0m \u001b[32m━━━━━━━━━━━━━━━━━━━━\u001b[0m\u001b[37m\u001b[0m \u001b[1m0s\u001b[0m 141ms/step - loss: 0.4258 - val_loss: 0.3155\n",
            "Epoch 17/130\n",
            "\u001b[1m1/1\u001b[0m \u001b[32m━━━━━━━━━━━━━━━━━━━━\u001b[0m\u001b[37m\u001b[0m \u001b[1m0s\u001b[0m 150ms/step - loss: 0.4193 - val_loss: 0.3055\n",
            "Epoch 18/130\n",
            "\u001b[1m1/1\u001b[0m \u001b[32m━━━━━━━━━━━━━━━━━━━━\u001b[0m\u001b[37m\u001b[0m \u001b[1m0s\u001b[0m 125ms/step - loss: 0.4128 - val_loss: 0.2957\n",
            "Epoch 19/130\n",
            "\u001b[1m1/1\u001b[0m \u001b[32m━━━━━━━━━━━━━━━━━━━━\u001b[0m\u001b[37m\u001b[0m \u001b[1m0s\u001b[0m 144ms/step - loss: 0.4064 - val_loss: 0.2860\n",
            "Epoch 20/130\n",
            "\u001b[1m1/1\u001b[0m \u001b[32m━━━━━━━━━━━━━━━━━━━━\u001b[0m\u001b[37m\u001b[0m \u001b[1m0s\u001b[0m 145ms/step - loss: 0.3999 - val_loss: 0.2764\n",
            "Epoch 21/130\n",
            "\u001b[1m1/1\u001b[0m \u001b[32m━━━━━━━━━━━━━━━━━━━━\u001b[0m\u001b[37m\u001b[0m \u001b[1m0s\u001b[0m 137ms/step - loss: 0.3935 - val_loss: 0.2668\n",
            "Epoch 22/130\n",
            "\u001b[1m1/1\u001b[0m \u001b[32m━━━━━━━━━━━━━━━━━━━━\u001b[0m\u001b[37m\u001b[0m \u001b[1m0s\u001b[0m 141ms/step - loss: 0.3871 - val_loss: 0.2574\n",
            "Epoch 23/130\n",
            "\u001b[1m1/1\u001b[0m \u001b[32m━━━━━━━━━━━━━━━━━━━━\u001b[0m\u001b[37m\u001b[0m \u001b[1m0s\u001b[0m 139ms/step - loss: 0.3807 - val_loss: 0.2481\n",
            "Epoch 24/130\n",
            "\u001b[1m1/1\u001b[0m \u001b[32m━━━━━━━━━━━━━━━━━━━━\u001b[0m\u001b[37m\u001b[0m \u001b[1m0s\u001b[0m 149ms/step - loss: 0.3744 - val_loss: 0.2389\n",
            "Epoch 25/130\n",
            "\u001b[1m1/1\u001b[0m \u001b[32m━━━━━━━━━━━━━━━━━━━━\u001b[0m\u001b[37m\u001b[0m \u001b[1m0s\u001b[0m 79ms/step - loss: 0.3681 - val_loss: 0.2298\n",
            "Epoch 26/130\n",
            "\u001b[1m1/1\u001b[0m \u001b[32m━━━━━━━━━━━━━━━━━━━━\u001b[0m\u001b[37m\u001b[0m \u001b[1m0s\u001b[0m 82ms/step - loss: 0.3619 - val_loss: 0.2208\n",
            "Epoch 27/130\n",
            "\u001b[1m1/1\u001b[0m \u001b[32m━━━━━━━━━━━━━━━━━━━━\u001b[0m\u001b[37m\u001b[0m \u001b[1m0s\u001b[0m 141ms/step - loss: 0.3556 - val_loss: 0.2117\n",
            "Epoch 28/130\n",
            "\u001b[1m1/1\u001b[0m \u001b[32m━━━━━━━━━━━━━━━━━━━━\u001b[0m\u001b[37m\u001b[0m \u001b[1m0s\u001b[0m 78ms/step - loss: 0.3494 - val_loss: 0.2028\n",
            "Epoch 29/130\n",
            "\u001b[1m1/1\u001b[0m \u001b[32m━━━━━━━━━━━━━━━━━━━━\u001b[0m\u001b[37m\u001b[0m \u001b[1m0s\u001b[0m 74ms/step - loss: 0.3432 - val_loss: 0.1940\n",
            "Epoch 30/130\n",
            "\u001b[1m1/1\u001b[0m \u001b[32m━━━━━━━━━━━━━━━━━━━━\u001b[0m\u001b[37m\u001b[0m \u001b[1m0s\u001b[0m 142ms/step - loss: 0.3371 - val_loss: 0.1853\n",
            "Epoch 31/130\n",
            "\u001b[1m1/1\u001b[0m \u001b[32m━━━━━━━━━━━━━━━━━━━━\u001b[0m\u001b[37m\u001b[0m \u001b[1m0s\u001b[0m 148ms/step - loss: 0.3310 - val_loss: 0.1767\n",
            "Epoch 32/130\n",
            "\u001b[1m1/1\u001b[0m \u001b[32m━━━━━━━━━━━━━━━━━━━━\u001b[0m\u001b[37m\u001b[0m \u001b[1m0s\u001b[0m 138ms/step - loss: 0.3249 - val_loss: 0.1683\n",
            "Epoch 33/130\n",
            "\u001b[1m1/1\u001b[0m \u001b[32m━━━━━━━━━━━━━━━━━━━━\u001b[0m\u001b[37m\u001b[0m \u001b[1m0s\u001b[0m 76ms/step - loss: 0.3188 - val_loss: 0.1599\n",
            "Epoch 34/130\n",
            "\u001b[1m1/1\u001b[0m \u001b[32m━━━━━━━━━━━━━━━━━━━━\u001b[0m\u001b[37m\u001b[0m \u001b[1m0s\u001b[0m 87ms/step - loss: 0.3127 - val_loss: 0.1516\n",
            "Epoch 35/130\n",
            "\u001b[1m1/1\u001b[0m \u001b[32m━━━━━━━━━━━━━━━━━━━━\u001b[0m\u001b[37m\u001b[0m \u001b[1m0s\u001b[0m 136ms/step - loss: 0.3067 - val_loss: 0.1434\n",
            "Epoch 36/130\n",
            "\u001b[1m1/1\u001b[0m \u001b[32m━━━━━━━━━━━━━━━━━━━━\u001b[0m\u001b[37m\u001b[0m \u001b[1m0s\u001b[0m 81ms/step - loss: 0.3007 - val_loss: 0.1353\n",
            "Epoch 37/130\n",
            "\u001b[1m1/1\u001b[0m \u001b[32m━━━━━━━━━━━━━━━━━━━━\u001b[0m\u001b[37m\u001b[0m \u001b[1m0s\u001b[0m 135ms/step - loss: 0.2949 - val_loss: 0.1274\n",
            "Epoch 38/130\n",
            "\u001b[1m1/1\u001b[0m \u001b[32m━━━━━━━━━━━━━━━━━━━━\u001b[0m\u001b[37m\u001b[0m \u001b[1m0s\u001b[0m 148ms/step - loss: 0.2891 - val_loss: 0.1197\n",
            "Epoch 39/130\n",
            "\u001b[1m1/1\u001b[0m \u001b[32m━━━━━━━━━━━━━━━━━━━━\u001b[0m\u001b[37m\u001b[0m \u001b[1m0s\u001b[0m 74ms/step - loss: 0.2835 - val_loss: 0.1123\n",
            "Epoch 40/130\n",
            "\u001b[1m1/1\u001b[0m \u001b[32m━━━━━━━━━━━━━━━━━━━━\u001b[0m\u001b[37m\u001b[0m \u001b[1m0s\u001b[0m 78ms/step - loss: 0.2780 - val_loss: 0.1051\n",
            "Epoch 41/130\n",
            "\u001b[1m1/1\u001b[0m \u001b[32m━━━━━━━━━━━━━━━━━━━━\u001b[0m\u001b[37m\u001b[0m \u001b[1m0s\u001b[0m 75ms/step - loss: 0.2726 - val_loss: 0.0982\n",
            "Epoch 42/130\n",
            "\u001b[1m1/1\u001b[0m \u001b[32m━━━━━━━━━━━━━━━━━━━━\u001b[0m\u001b[37m\u001b[0m \u001b[1m0s\u001b[0m 83ms/step - loss: 0.2673 - val_loss: 0.0915\n",
            "Epoch 43/130\n",
            "\u001b[1m1/1\u001b[0m \u001b[32m━━━━━━━━━━━━━━━━━━━━\u001b[0m\u001b[37m\u001b[0m \u001b[1m0s\u001b[0m 77ms/step - loss: 0.2622 - val_loss: 0.0851\n",
            "Epoch 44/130\n",
            "\u001b[1m1/1\u001b[0m \u001b[32m━━━━━━━━━━━━━━━━━━━━\u001b[0m\u001b[37m\u001b[0m \u001b[1m0s\u001b[0m 145ms/step - loss: 0.2574 - val_loss: 0.0792\n",
            "Epoch 45/130\n",
            "\u001b[1m1/1\u001b[0m \u001b[32m━━━━━━━━━━━━━━━━━━━━\u001b[0m\u001b[37m\u001b[0m \u001b[1m0s\u001b[0m 135ms/step - loss: 0.2529 - val_loss: 0.0738\n",
            "Epoch 46/130\n",
            "\u001b[1m1/1\u001b[0m \u001b[32m━━━━━━━━━━━━━━━━━━━━\u001b[0m\u001b[37m\u001b[0m \u001b[1m0s\u001b[0m 83ms/step - loss: 0.2487 - val_loss: 0.0691\n",
            "Epoch 47/130\n",
            "\u001b[1m1/1\u001b[0m \u001b[32m━━━━━━━━━━━━━━━━━━━━\u001b[0m\u001b[37m\u001b[0m \u001b[1m0s\u001b[0m 79ms/step - loss: 0.2448 - val_loss: 0.0648\n",
            "Epoch 48/130\n",
            "\u001b[1m1/1\u001b[0m \u001b[32m━━━━━━━━━━━━━━━━━━━━\u001b[0m\u001b[37m\u001b[0m \u001b[1m0s\u001b[0m 142ms/step - loss: 0.2413 - val_loss: 0.0610\n",
            "Epoch 49/130\n",
            "\u001b[1m1/1\u001b[0m \u001b[32m━━━━━━━━━━━━━━━━━━━━\u001b[0m\u001b[37m\u001b[0m \u001b[1m0s\u001b[0m 151ms/step - loss: 0.2381 - val_loss: 0.0578\n",
            "Epoch 50/130\n",
            "\u001b[1m1/1\u001b[0m \u001b[32m━━━━━━━━━━━━━━━━━━━━\u001b[0m\u001b[37m\u001b[0m \u001b[1m0s\u001b[0m 79ms/step - loss: 0.2353 - val_loss: 0.0551\n",
            "Epoch 51/130\n",
            "\u001b[1m1/1\u001b[0m \u001b[32m━━━━━━━━━━━━━━━━━━━━\u001b[0m\u001b[37m\u001b[0m \u001b[1m0s\u001b[0m 75ms/step - loss: 0.2329 - val_loss: 0.0529\n",
            "Epoch 52/130\n",
            "\u001b[1m1/1\u001b[0m \u001b[32m━━━━━━━━━━━━━━━━━━━━\u001b[0m\u001b[37m\u001b[0m \u001b[1m0s\u001b[0m 75ms/step - loss: 0.2306 - val_loss: 0.0511\n",
            "Epoch 53/130\n",
            "\u001b[1m1/1\u001b[0m \u001b[32m━━━━━━━━━━━━━━━━━━━━\u001b[0m\u001b[37m\u001b[0m \u001b[1m0s\u001b[0m 160ms/step - loss: 0.2287 - val_loss: 0.0495\n",
            "Epoch 54/130\n",
            "\u001b[1m1/1\u001b[0m \u001b[32m━━━━━━━━━━━━━━━━━━━━\u001b[0m\u001b[37m\u001b[0m \u001b[1m0s\u001b[0m 81ms/step - loss: 0.2269 - val_loss: 0.0483\n",
            "Epoch 55/130\n",
            "\u001b[1m1/1\u001b[0m \u001b[32m━━━━━━━━━━━━━━━━━━━━\u001b[0m\u001b[37m\u001b[0m \u001b[1m0s\u001b[0m 142ms/step - loss: 0.2252 - val_loss: 0.0472\n",
            "Epoch 56/130\n",
            "\u001b[1m1/1\u001b[0m \u001b[32m━━━━━━━━━━━━━━━━━━━━\u001b[0m\u001b[37m\u001b[0m \u001b[1m0s\u001b[0m 80ms/step - loss: 0.2235 - val_loss: 0.0463\n",
            "Epoch 57/130\n",
            "\u001b[1m1/1\u001b[0m \u001b[32m━━━━━━━━━━━━━━━━━━━━\u001b[0m\u001b[37m\u001b[0m \u001b[1m0s\u001b[0m 79ms/step - loss: 0.2219 - val_loss: 0.0454\n",
            "Epoch 58/130\n",
            "\u001b[1m1/1\u001b[0m \u001b[32m━━━━━━━━━━━━━━━━━━━━\u001b[0m\u001b[37m\u001b[0m \u001b[1m0s\u001b[0m 77ms/step - loss: 0.2202 - val_loss: 0.0446\n",
            "Epoch 59/130\n",
            "\u001b[1m1/1\u001b[0m \u001b[32m━━━━━━━━━━━━━━━━━━━━\u001b[0m\u001b[37m\u001b[0m \u001b[1m0s\u001b[0m 147ms/step - loss: 0.2185 - val_loss: 0.0437\n",
            "Epoch 60/130\n",
            "\u001b[1m1/1\u001b[0m \u001b[32m━━━━━━━━━━━━━━━━━━━━\u001b[0m\u001b[37m\u001b[0m \u001b[1m0s\u001b[0m 171ms/step - loss: 0.2167 - val_loss: 0.0429\n",
            "Epoch 61/130\n",
            "\u001b[1m1/1\u001b[0m \u001b[32m━━━━━━━━━━━━━━━━━━━━\u001b[0m\u001b[37m\u001b[0m \u001b[1m0s\u001b[0m 175ms/step - loss: 0.2148 - val_loss: 0.0421\n",
            "Epoch 62/130\n",
            "\u001b[1m1/1\u001b[0m \u001b[32m━━━━━━━━━━━━━━━━━━━━\u001b[0m\u001b[37m\u001b[0m \u001b[1m0s\u001b[0m 128ms/step - loss: 0.2128 - val_loss: 0.0412\n",
            "Epoch 63/130\n",
            "\u001b[1m1/1\u001b[0m \u001b[32m━━━━━━━━━━━━━━━━━━━━\u001b[0m\u001b[37m\u001b[0m \u001b[1m0s\u001b[0m 112ms/step - loss: 0.2108 - val_loss: 0.0404\n",
            "Epoch 64/130\n",
            "\u001b[1m1/1\u001b[0m \u001b[32m━━━━━━━━━━━━━━━━━━━━\u001b[0m\u001b[37m\u001b[0m \u001b[1m0s\u001b[0m 138ms/step - loss: 0.2087 - val_loss: 0.0395\n",
            "Epoch 65/130\n",
            "\u001b[1m1/1\u001b[0m \u001b[32m━━━━━━━━━━━━━━━━━━━━\u001b[0m\u001b[37m\u001b[0m \u001b[1m0s\u001b[0m 182ms/step - loss: 0.2065 - val_loss: 0.0386\n",
            "Epoch 66/130\n",
            "\u001b[1m1/1\u001b[0m \u001b[32m━━━━━━━━━━━━━━━━━━━━\u001b[0m\u001b[37m\u001b[0m \u001b[1m0s\u001b[0m 305ms/step - loss: 0.2043 - val_loss: 0.0378\n",
            "Epoch 67/130\n",
            "\u001b[1m1/1\u001b[0m \u001b[32m━━━━━━━━━━━━━━━━━━━━\u001b[0m\u001b[37m\u001b[0m \u001b[1m0s\u001b[0m 313ms/step - loss: 0.2021 - val_loss: 0.0370\n",
            "Epoch 68/130\n",
            "\u001b[1m1/1\u001b[0m \u001b[32m━━━━━━━━━━━━━━━━━━━━\u001b[0m\u001b[37m\u001b[0m \u001b[1m0s\u001b[0m 299ms/step - loss: 0.1999 - val_loss: 0.0363\n",
            "Epoch 69/130\n",
            "\u001b[1m1/1\u001b[0m \u001b[32m━━━━━━━━━━━━━━━━━━━━\u001b[0m\u001b[37m\u001b[0m \u001b[1m0s\u001b[0m 244ms/step - loss: 0.1976 - val_loss: 0.0356\n",
            "Epoch 70/130\n",
            "\u001b[1m1/1\u001b[0m \u001b[32m━━━━━━━━━━━━━━━━━━━━\u001b[0m\u001b[37m\u001b[0m \u001b[1m0s\u001b[0m 126ms/step - loss: 0.1954 - val_loss: 0.0349\n",
            "Epoch 71/130\n",
            "\u001b[1m1/1\u001b[0m \u001b[32m━━━━━━━━━━━━━━━━━━━━\u001b[0m\u001b[37m\u001b[0m \u001b[1m0s\u001b[0m 80ms/step - loss: 0.1932 - val_loss: 0.0343\n",
            "Epoch 72/130\n",
            "\u001b[1m1/1\u001b[0m \u001b[32m━━━━━━━━━━━━━━━━━━━━\u001b[0m\u001b[37m\u001b[0m \u001b[1m0s\u001b[0m 182ms/step - loss: 0.1910 - val_loss: 0.0337\n",
            "Epoch 73/130\n",
            "\u001b[1m1/1\u001b[0m \u001b[32m━━━━━━━━━━━━━━━━━━━━\u001b[0m\u001b[37m\u001b[0m \u001b[1m0s\u001b[0m 78ms/step - loss: 0.1888 - val_loss: 0.0331\n",
            "Epoch 74/130\n",
            "\u001b[1m1/1\u001b[0m \u001b[32m━━━━━━━━━━━━━━━━━━━━\u001b[0m\u001b[37m\u001b[0m \u001b[1m0s\u001b[0m 135ms/step - loss: 0.1865 - val_loss: 0.0325\n",
            "Epoch 75/130\n",
            "\u001b[1m1/1\u001b[0m \u001b[32m━━━━━━━━━━━━━━━━━━━━\u001b[0m\u001b[37m\u001b[0m \u001b[1m0s\u001b[0m 140ms/step - loss: 0.1843 - val_loss: 0.0320\n",
            "Epoch 76/130\n",
            "\u001b[1m1/1\u001b[0m \u001b[32m━━━━━━━━━━━━━━━━━━━━\u001b[0m\u001b[37m\u001b[0m \u001b[1m0s\u001b[0m 147ms/step - loss: 0.1820 - val_loss: 0.0314\n",
            "Epoch 77/130\n",
            "\u001b[1m1/1\u001b[0m \u001b[32m━━━━━━━━━━━━━━━━━━━━\u001b[0m\u001b[37m\u001b[0m \u001b[1m0s\u001b[0m 79ms/step - loss: 0.1798 - val_loss: 0.0308\n",
            "Epoch 78/130\n",
            "\u001b[1m1/1\u001b[0m \u001b[32m━━━━━━━━━━━━━━━━━━━━\u001b[0m\u001b[37m\u001b[0m \u001b[1m0s\u001b[0m 138ms/step - loss: 0.1774 - val_loss: 0.0302\n",
            "Epoch 79/130\n",
            "\u001b[1m1/1\u001b[0m \u001b[32m━━━━━━━━━━━━━━━━━━━━\u001b[0m\u001b[37m\u001b[0m \u001b[1m0s\u001b[0m 74ms/step - loss: 0.1751 - val_loss: 0.0296\n",
            "Epoch 80/130\n",
            "\u001b[1m1/1\u001b[0m \u001b[32m━━━━━━━━━━━━━━━━━━━━\u001b[0m\u001b[37m\u001b[0m \u001b[1m0s\u001b[0m 145ms/step - loss: 0.1727 - val_loss: 0.0290\n",
            "Epoch 81/130\n",
            "\u001b[1m1/1\u001b[0m \u001b[32m━━━━━━━━━━━━━━━━━━━━\u001b[0m\u001b[37m\u001b[0m \u001b[1m0s\u001b[0m 89ms/step - loss: 0.1703 - val_loss: 0.0283\n",
            "Epoch 82/130\n",
            "\u001b[1m1/1\u001b[0m \u001b[32m━━━━━━━━━━━━━━━━━━━━\u001b[0m\u001b[37m\u001b[0m \u001b[1m0s\u001b[0m 78ms/step - loss: 0.1678 - val_loss: 0.0276\n",
            "Epoch 83/130\n",
            "\u001b[1m1/1\u001b[0m \u001b[32m━━━━━━━━━━━━━━━━━━━━\u001b[0m\u001b[37m\u001b[0m \u001b[1m0s\u001b[0m 76ms/step - loss: 0.1653 - val_loss: 0.0268\n",
            "Epoch 84/130\n",
            "\u001b[1m1/1\u001b[0m \u001b[32m━━━━━━━━━━━━━━━━━━━━\u001b[0m\u001b[37m\u001b[0m \u001b[1m0s\u001b[0m 84ms/step - loss: 0.1628 - val_loss: 0.0260\n",
            "Epoch 85/130\n",
            "\u001b[1m1/1\u001b[0m \u001b[32m━━━━━━━━━━━━━━━━━━━━\u001b[0m\u001b[37m\u001b[0m \u001b[1m0s\u001b[0m 136ms/step - loss: 0.1601 - val_loss: 0.0252\n",
            "Epoch 86/130\n",
            "\u001b[1m1/1\u001b[0m \u001b[32m━━━━━━━━━━━━━━━━━━━━\u001b[0m\u001b[37m\u001b[0m \u001b[1m0s\u001b[0m 77ms/step - loss: 0.1575 - val_loss: 0.0243\n",
            "Epoch 87/130\n",
            "\u001b[1m1/1\u001b[0m \u001b[32m━━━━━━━━━━━━━━━━━━━━\u001b[0m\u001b[37m\u001b[0m \u001b[1m0s\u001b[0m 142ms/step - loss: 0.1547 - val_loss: 0.0234\n",
            "Epoch 88/130\n",
            "\u001b[1m1/1\u001b[0m \u001b[32m━━━━━━━━━━━━━━━━━━━━\u001b[0m\u001b[37m\u001b[0m \u001b[1m0s\u001b[0m 141ms/step - loss: 0.1520 - val_loss: 0.0226\n",
            "Epoch 89/130\n",
            "\u001b[1m1/1\u001b[0m \u001b[32m━━━━━━━━━━━━━━━━━━━━\u001b[0m\u001b[37m\u001b[0m \u001b[1m0s\u001b[0m 80ms/step - loss: 0.1492 - val_loss: 0.0218\n",
            "Epoch 90/130\n",
            "\u001b[1m1/1\u001b[0m \u001b[32m━━━━━━━━━━━━━━━━━━━━\u001b[0m\u001b[37m\u001b[0m \u001b[1m0s\u001b[0m 152ms/step - loss: 0.1464 - val_loss: 0.0210\n",
            "Epoch 91/130\n",
            "\u001b[1m1/1\u001b[0m \u001b[32m━━━━━━━━━━━━━━━━━━━━\u001b[0m\u001b[37m\u001b[0m \u001b[1m0s\u001b[0m 75ms/step - loss: 0.1435 - val_loss: 0.0203\n",
            "Epoch 92/130\n",
            "\u001b[1m1/1\u001b[0m \u001b[32m━━━━━━━━━━━━━━━━━━━━\u001b[0m\u001b[37m\u001b[0m \u001b[1m0s\u001b[0m 80ms/step - loss: 0.1407 - val_loss: 0.0195\n",
            "Epoch 93/130\n",
            "\u001b[1m1/1\u001b[0m \u001b[32m━━━━━━━━━━━━━━━━━━━━\u001b[0m\u001b[37m\u001b[0m \u001b[1m0s\u001b[0m 79ms/step - loss: 0.1378 - val_loss: 0.0187\n",
            "Epoch 94/130\n",
            "\u001b[1m1/1\u001b[0m \u001b[32m━━━━━━━━━━━━━━━━━━━━\u001b[0m\u001b[37m\u001b[0m \u001b[1m0s\u001b[0m 78ms/step - loss: 0.1348 - val_loss: 0.0179\n",
            "Epoch 95/130\n",
            "\u001b[1m1/1\u001b[0m \u001b[32m━━━━━━━━━━━━━━━━━━━━\u001b[0m\u001b[37m\u001b[0m \u001b[1m0s\u001b[0m 142ms/step - loss: 0.1318 - val_loss: 0.0171\n",
            "Epoch 96/130\n",
            "\u001b[1m1/1\u001b[0m \u001b[32m━━━━━━━━━━━━━━━━━━━━\u001b[0m\u001b[37m\u001b[0m \u001b[1m0s\u001b[0m 139ms/step - loss: 0.1288 - val_loss: 0.0163\n",
            "Epoch 97/130\n",
            "\u001b[1m1/1\u001b[0m \u001b[32m━━━━━━━━━━━━━━━━━━━━\u001b[0m\u001b[37m\u001b[0m \u001b[1m0s\u001b[0m 144ms/step - loss: 0.1257 - val_loss: 0.0156\n",
            "Epoch 98/130\n",
            "\u001b[1m1/1\u001b[0m \u001b[32m━━━━━━━━━━━━━━━━━━━━\u001b[0m\u001b[37m\u001b[0m \u001b[1m0s\u001b[0m 140ms/step - loss: 0.1226 - val_loss: 0.0149\n",
            "Epoch 99/130\n",
            "\u001b[1m1/1\u001b[0m \u001b[32m━━━━━━━━━━━━━━━━━━━━\u001b[0m\u001b[37m\u001b[0m \u001b[1m0s\u001b[0m 80ms/step - loss: 0.1195 - val_loss: 0.0141\n",
            "Epoch 100/130\n",
            "\u001b[1m1/1\u001b[0m \u001b[32m━━━━━━━━━━━━━━━━━━━━\u001b[0m\u001b[37m\u001b[0m \u001b[1m0s\u001b[0m 92ms/step - loss: 0.1164 - val_loss: 0.0134\n",
            "Epoch 101/130\n",
            "\u001b[1m1/1\u001b[0m \u001b[32m━━━━━━━━━━━━━━━━━━━━\u001b[0m\u001b[37m\u001b[0m \u001b[1m0s\u001b[0m 135ms/step - loss: 0.1133 - val_loss: 0.0128\n",
            "Epoch 102/130\n",
            "\u001b[1m1/1\u001b[0m \u001b[32m━━━━━━━━━━━━━━━━━━━━\u001b[0m\u001b[37m\u001b[0m \u001b[1m0s\u001b[0m 274ms/step - loss: 0.1102 - val_loss: 0.0121\n",
            "Epoch 103/130\n",
            "\u001b[1m1/1\u001b[0m \u001b[32m━━━━━━━━━━━━━━━━━━━━\u001b[0m\u001b[37m\u001b[0m \u001b[1m0s\u001b[0m 167ms/step - loss: 0.1071 - val_loss: 0.0115\n",
            "Epoch 104/130\n",
            "\u001b[1m1/1\u001b[0m \u001b[32m━━━━━━━━━━━━━━━━━━━━\u001b[0m\u001b[37m\u001b[0m \u001b[1m0s\u001b[0m 226ms/step - loss: 0.1039 - val_loss: 0.0110\n",
            "Epoch 105/130\n",
            "\u001b[1m1/1\u001b[0m \u001b[32m━━━━━━━━━━━━━━━━━━━━\u001b[0m\u001b[37m\u001b[0m \u001b[1m0s\u001b[0m 80ms/step - loss: 0.1008 - val_loss: 0.0105\n",
            "Epoch 106/130\n",
            "\u001b[1m1/1\u001b[0m \u001b[32m━━━━━━━━━━━━━━━━━━━━\u001b[0m\u001b[37m\u001b[0m \u001b[1m0s\u001b[0m 123ms/step - loss: 0.0976 - val_loss: 0.0101\n",
            "Epoch 107/130\n",
            "\u001b[1m1/1\u001b[0m \u001b[32m━━━━━━━━━━━━━━━━━━━━\u001b[0m\u001b[37m\u001b[0m \u001b[1m0s\u001b[0m 345ms/step - loss: 0.0945 - val_loss: 0.0098\n",
            "Epoch 108/130\n",
            "\u001b[1m1/1\u001b[0m \u001b[32m━━━━━━━━━━━━━━━━━━━━\u001b[0m\u001b[37m\u001b[0m \u001b[1m0s\u001b[0m 397ms/step - loss: 0.0913 - val_loss: 0.0096\n",
            "Epoch 109/130\n",
            "\u001b[1m1/1\u001b[0m \u001b[32m━━━━━━━━━━━━━━━━━━━━\u001b[0m\u001b[37m\u001b[0m \u001b[1m0s\u001b[0m 79ms/step - loss: 0.0882 - val_loss: 0.0094\n",
            "Epoch 110/130\n",
            "\u001b[1m1/1\u001b[0m \u001b[32m━━━━━━━━━━━━━━━━━━━━\u001b[0m\u001b[37m\u001b[0m \u001b[1m0s\u001b[0m 76ms/step - loss: 0.0850 - val_loss: 0.0094\n",
            "Epoch 111/130\n",
            "\u001b[1m1/1\u001b[0m \u001b[32m━━━━━━━━━━━━━━━━━━━━\u001b[0m\u001b[37m\u001b[0m \u001b[1m0s\u001b[0m 240ms/step - loss: 0.0818 - val_loss: 0.0094\n",
            "Epoch 112/130\n",
            "\u001b[1m1/1\u001b[0m \u001b[32m━━━━━━━━━━━━━━━━━━━━\u001b[0m\u001b[37m\u001b[0m \u001b[1m0s\u001b[0m 259ms/step - loss: 0.0787 - val_loss: 0.0096\n",
            "Epoch 113/130\n",
            "\u001b[1m1/1\u001b[0m \u001b[32m━━━━━━━━━━━━━━━━━━━━\u001b[0m\u001b[37m\u001b[0m \u001b[1m0s\u001b[0m 187ms/step - loss: 0.0756 - val_loss: 0.0099\n",
            "Epoch 114/130\n",
            "\u001b[1m1/1\u001b[0m \u001b[32m━━━━━━━━━━━━━━━━━━━━\u001b[0m\u001b[37m\u001b[0m \u001b[1m0s\u001b[0m 82ms/step - loss: 0.0725 - val_loss: 0.0104\n",
            "Epoch 115/130\n",
            "\u001b[1m1/1\u001b[0m \u001b[32m━━━━━━━━━━━━━━━━━━━━\u001b[0m\u001b[37m\u001b[0m \u001b[1m0s\u001b[0m 77ms/step - loss: 0.0696 - val_loss: 0.0110\n",
            "Epoch 116/130\n",
            "\u001b[1m1/1\u001b[0m \u001b[32m━━━━━━━━━━━━━━━━━━━━\u001b[0m\u001b[37m\u001b[0m \u001b[1m0s\u001b[0m 148ms/step - loss: 0.0667 - val_loss: 0.0117\n",
            "Epoch 117/130\n",
            "\u001b[1m1/1\u001b[0m \u001b[32m━━━━━━━━━━━━━━━━━━━━\u001b[0m\u001b[37m\u001b[0m \u001b[1m0s\u001b[0m 75ms/step - loss: 0.0639 - val_loss: 0.0125\n",
            "Epoch 118/130\n",
            "\u001b[1m1/1\u001b[0m \u001b[32m━━━━━━━━━━━━━━━━━━━━\u001b[0m\u001b[37m\u001b[0m \u001b[1m0s\u001b[0m 87ms/step - loss: 0.0612 - val_loss: 0.0135\n",
            "Epoch 119/130\n",
            "\u001b[1m1/1\u001b[0m \u001b[32m━━━━━━━━━━━━━━━━━━━━\u001b[0m\u001b[37m\u001b[0m \u001b[1m0s\u001b[0m 134ms/step - loss: 0.0585 - val_loss: 0.0146\n",
            "Epoch 120/130\n",
            "\u001b[1m1/1\u001b[0m \u001b[32m━━━━━━━━━━━━━━━━━━━━\u001b[0m\u001b[37m\u001b[0m \u001b[1m0s\u001b[0m 139ms/step - loss: 0.0560 - val_loss: 0.0158\n"
          ]
        }
      ]
    },
    {
      "cell_type": "markdown",
      "source": [
        "## 7. Evaluasi Model"
      ],
      "metadata": {
        "id": "CPLNwT_yxx0m"
      },
      "id": "CPLNwT_yxx0m"
    },
    {
      "cell_type": "markdown",
      "source": [
        "### Apa itu Metrik Evaluasi?\n",
        "- **MAE (Mean Absolute Error)**: Rata-rata kesalahan absolut antara nilai aktual dan prediksi. Semakin kecil nilainya, semakin akurat model.\n",
        "- **RMSE (Root Mean Squared Error)**: Akar dari rata-rata kuadrat kesalahan. Lebih sensitif terhadap outlier daripada MAE.\n",
        "\n",
        "### Hasil Evaluasi\n",
        "Model diuji dengan data test. Nilai prediksi dan aktual dikembalikan ke skala aslinya (inverse transform) untuk dihitung metrik evaluasinya.\n",
        "\n"
      ],
      "metadata": {
        "id": "QcyZjqie231R"
      },
      "id": "QcyZjqie231R"
    },
    {
      "cell_type": "code",
      "source": [
        "# Prediksi\n",
        "y_pred = model.predict(X_test)"
      ],
      "metadata": {
        "colab": {
          "base_uri": "https://localhost:8080/"
        },
        "id": "VwFZ4t7Sxvy2",
        "outputId": "40130b50-5544-4cd2-d3db-91813e66865d"
      },
      "id": "VwFZ4t7Sxvy2",
      "execution_count": null,
      "outputs": [
        {
          "output_type": "stream",
          "name": "stdout",
          "text": [
            "\u001b[1m1/1\u001b[0m \u001b[32m━━━━━━━━━━━━━━━━━━━━\u001b[0m\u001b[37m\u001b[0m \u001b[1m0s\u001b[0m 172ms/step\n"
          ]
        }
      ]
    },
    {
      "cell_type": "markdown",
      "source": [
        "### Inverse transform hasil prediksi dan y_test\n",
        "\n",
        " mengembalikan hasil prediksi (y_pred) dan data aktual (y_test) ke skala aslinya (sebelum dilakukan scaling). Hal ini penting agar kita dapat membandingkan hasil prediksi dengan nilai aktual dalam satuan yang sebenarnya"
      ],
      "metadata": {
        "id": "LloQrxJ44a_R"
      },
      "id": "LloQrxJ44a_R"
    },
    {
      "cell_type": "code",
      "source": [
        "y_pred_inv = scaler.inverse_transform(np.concatenate((np.zeros((len(y_pred), df_monthly.shape[1]-1)), y_pred), axis=1))[:, -1]\n",
        "y_test_inv = scaler.inverse_transform(np.concatenate((np.zeros((len(y_test), df_monthly.shape[1]-1)), y_test), axis=1))[:, -1]"
      ],
      "metadata": {
        "id": "BkdD1Y5Jx2ZO"
      },
      "id": "BkdD1Y5Jx2ZO",
      "execution_count": null,
      "outputs": []
    },
    {
      "cell_type": "markdown",
      "source": [
        " menghitung nilai Mean Absolute Error (MAE) dan Root Mean Squared Error (RMSE) untuk mengukur performa model dalam memprediksi total biaya (TotalCost)."
      ],
      "metadata": {
        "id": "4G-cPSEk40V6"
      },
      "id": "4G-cPSEk40V6"
    },
    {
      "cell_type": "code",
      "source": [
        "mae = mean_absolute_error(y_test_inv, y_pred_inv)\n",
        "rmse = np.sqrt(mean_squared_error(y_test_inv, y_pred_inv))\n",
        "\n",
        "print(f\"MAE: {mae:.2f}\")\n",
        "print(f\"RMSE: {rmse:.2f}\")"
      ],
      "metadata": {
        "colab": {
          "base_uri": "https://localhost:8080/"
        },
        "id": "gisvy0jyx6Bm",
        "outputId": "b28811a6-185f-4b78-ea20-3b2b7723b0b7"
      },
      "id": "gisvy0jyx6Bm",
      "execution_count": null,
      "outputs": [
        {
          "output_type": "stream",
          "name": "stdout",
          "text": [
            "MAE: 4589.25\n",
            "RMSE: 4760.40\n"
          ]
        }
      ]
    },
    {
      "cell_type": "markdown",
      "source": [
        "### Visualisasi Prediksi vs Aktual\n",
        "Visualisasi ini bertujuan untuk melihat seberapa dekat hasil prediksi dengan nilai aktualnya.\n"
      ],
      "metadata": {
        "id": "M96pO-DJ3BVh"
      },
      "id": "M96pO-DJ3BVh"
    },
    {
      "cell_type": "code",
      "source": [
        "# Plot hasil prediksi vs aktual\n",
        "plt.figure(figsize=(12,6))\n",
        "plt.plot(y_test_inv, label='Actual')\n",
        "plt.plot(y_pred_inv, label='Prediction')\n",
        "plt.legend()\n",
        "plt.title('Comparison: Actual vs Prediction')\n",
        "plt.xlabel('Time')\n",
        "plt.ylabel('Total Cost')\n",
        "plt.grid()\n",
        "plt.show()\n"
      ],
      "metadata": {
        "colab": {
          "base_uri": "https://localhost:8080/",
          "height": 564
        },
        "id": "n-bMY4PNyCvG",
        "outputId": "79f2c47f-4799-42d1-bede-ac8c46d2e17d"
      },
      "id": "n-bMY4PNyCvG",
      "execution_count": null,
      "outputs": [
        {
          "output_type": "display_data",
          "data": {
            "text/plain": [
              "<Figure size 1200x600 with 1 Axes>"
            ],
            "image/png": "[encoded data removed]"
          },
          "metadata": {}
        }
      ]
    },
    {
      "cell_type": "markdown",
      "source": [
        "### Insight Evaluasi:\n",
        "- Model mampu mengikuti tren data pengeluaran bulanan dengan cukup baik.\n",
        "\n",
        "- MAE = 4589.25 → menunjukkan bahwa rata-rata kesalahan prediksi hanya sekitar 4,5 ribu satuan, yang tergolong rendah dan menandakan model cukup akurat.\n",
        "\n",
        "- RMSE = 4760.40 → menunjukkan kesalahan prediksi keseluruhan relatif kecil, menunjukkan performa model yang stabil dan akurat.\n",
        "\n",
        "### Interpretasi dan Dampaknya terhadap Bisnis\n",
        "Model LSTM yang dikembangkan berhasil mengurangi rata-rata kesalahan prediksi hingga 4.589 satuan, yang menunjukkan performa prediksi yang akurat dan stabil. Prediksi ini membantu divisi keuangan dan pengadaan dalam menyusun rencana anggaran dan melakukan pemesanan dengan lebih terstruktur.\n",
        "\n",
        "### Apakah Problem Statement Terjawab?\n",
        " Ya. Model menjawab kebutuhan untuk memprediksi pengeluaran dengan cukup akurat.\n",
        "\n",
        "### Apakah Goals Tercapai?\n",
        " Ya. Prediksi yang dihasilkan mampu memberikan informasi awal yang relevan untuk perencanaan bulanan, dengan tingkat kesalahan yang dapat ditoleransi secara bisnis.\n",
        "\n",
        "### Apakah Solusi Berdampak?\n",
        " Ya. Model LSTM menunjukkan dampak yang signifikan dalam mengungkap pola pengeluaran dan menghasilkan estimasi yang dapat diandalkan sebagai alat bantu pengambilan keputusan keuangan.\n",
        "\n",
        "---\n",
        "\n",
        "Seluruh tahapan proyek ini menunjukkan bahwa machine learning, khususnya pendekatan time series, dapat diterapkan secara langsung untuk mendukung kebutuhan bisnis nyata, khususnya dalam manajemen pengeluaran dan perencanaan anggaran.\n",
        "\n",
        "\n"
      ],
      "metadata": {
        "id": "ubiGpzgJ5RVJ"
      },
      "id": "ubiGpzgJ5RVJ"
    }
  ],
  "metadata": {
    "colab": {
      "provenance": []
    },
    "language_info": {
      "name": "python"
    },
    "kernelspec": {
      "name": "python3",
      "display_name": "Python 3"
    }
  },
  "nbformat": 4,
  "nbformat_minor": 5
}