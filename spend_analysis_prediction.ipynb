{
 "cells": [
  {
   "cell_type": "markdown",
   "id": "91b8123e",
   "metadata": {},
   "source": [
    "# Prediksi Total Pengeluaran Berdasarkan Transaksi Pembelian\n",
    "Proyek Machine Learning untuk submission kelas Dicoding: Machine Learning\n",
    "\n",
    "**Pendekatan**: Regresi\n",
    "**Target**: TotalCost"
   ]
  },
  {
   "cell_type": "markdown",
   "id": "84583b5e",
   "metadata": {},
   "source": [
    "## 1. Pendahuluan\n",
    "Dalam pengelolaan anggaran perusahaan, penting untuk memahami faktor-faktor yang memengaruhi total pengeluaran dari tiap transaksi. Dengan prediksi yang akurat, perusahaan dapat mengelola anggaran dan negosiasi dengan supplier secara lebih efisien."
   ]
  },
  {
   "cell_type": "markdown",
   "id": "d69d51f7",
   "metadata": {},
   "source": [
    "## 2. Problem Domain\n",
    "- **Masalah**: Prediksi total biaya pembelian (`TotalCost`) berdasarkan data transaksi.\n",
    "- **Solusi**: Model regresi untuk memprediksi nilai `TotalCost`.\n",
    "- **Manfaat**: Menyediakan insight terhadap pengeluaran berdasarkan jenis barang, supplier, dan pembeli."
   ]
  },
  {
   "cell_type": "markdown",
   "id": "4f097477",
   "metadata": {},
   "source": [
    "## 3. Data Understanding\n",
    "Kolom-kolom dalam dataset:\n",
    "- `TransactionID`: ID transaksi\n",
    "- `ItemName`: Nama barang\n",
    "- `Category`: Kategori barang\n",
    "- `Quantity`: Jumlah barang\n",
    "- `UnitPrice`: Harga satuan\n",
    "- `TotalCost`: Harga total (target)\n",
    "- `PurchaseDate`: Tanggal pembelian\n",
    "- `Supplier`: Pemasok\n",
    "- `Buyer`: Pembeli"
   ]
  },
  {
   "cell_type": "code",
   "execution_count": null,
   "id": "27798459",
   "metadata": {},
   "outputs": [],
   "source": [
    "# Import library\n",
    "import pandas as pd\n",
    "import numpy as np\n",
    "import matplotlib.pyplot as plt\n",
    "import seaborn as sns\n",
    "from sklearn.model_selection import train_test_split\n",
    "from sklearn.preprocessing import LabelEncoder, StandardScaler\n",
    "from sklearn.ensemble import RandomForestRegressor\n",
    "from sklearn.metrics import mean_absolute_error, mean_squared_error, r2_score"
   ]
  },
  {
   "cell_type": "code",
   "execution_count": null,
   "id": "7b53e940",
   "metadata": {},
   "outputs": [],
   "source": [
    "# Load dataset\n",
    "df = pd.read_csv('/content/spend_analysis_dataset.csv')\n",
    "df.head()"
   ]
  },
  {
   "cell_type": "markdown",
   "id": "7f08b3dc",
   "metadata": {},
   "source": [
    "## 4. Data Preparation\n",
    "- Encode data kategorikal\n",
    "- Normalisasi fitur numerik\n",
    "- Split data train/test"
   ]
  },
  {
   "cell_type": "code",
   "execution_count": null,
   "id": "82063ab0",
   "metadata": {},
   "outputs": [],
   "source": [
    "# Encode categorical features\n",
    "cat_cols = ['Category', 'Supplier', 'Buyer']\n",
    "le = LabelEncoder()\n",
    "for col in cat_cols:\n",
    "    df[col] = le.fit_transform(df[col])"
   ]
  },
  {
   "cell_type": "code",
   "execution_count": null,
   "id": "296fc832",
   "metadata": {},
   "outputs": [],
   "source": [
    "# Feature selection\n",
    "features = ['Category', 'Quantity', 'UnitPrice', 'Supplier', 'Buyer']\n",
    "X = df[features]\n",
    "y = df['TotalCost']"
   ]
  },
  {
   "cell_type": "code",
   "execution_count": null,
   "id": "fa5384fa",
   "metadata": {},
   "outputs": [],
   "source": [
    "# Split data\n",
    "X_train, X_test, y_train, y_test = train_test_split(X, y, test_size=0.2, random_state=42)"
   ]
  },
  {
   "cell_type": "markdown",
   "id": "a817692c",
   "metadata": {},
   "source": [
    "## 5. Modeling\n",
    "Model: Random Forest Regressor"
   ]
  },
  {
   "cell_type": "code",
   "execution_count": null,
   "id": "2d00761d",
   "metadata": {},
   "outputs": [],
   "source": [
    "# Training model\n",
    "model = RandomForestRegressor(random_state=42)\n",
    "model.fit(X_train, y_train)\n",
    "y_pred = model.predict(X_test)"
   ]
  },
  {
   "cell_type": "markdown",
   "id": "1f010d3e",
   "metadata": {},
   "source": [
    "## 6. Evaluation\n",
    "Gunakan metrik MAE, RMSE, dan R² Score."
   ]
  },
  {
   "cell_type": "code",
   "execution_count": null,
   "id": "d8303258",
   "metadata": {},
   "outputs": [],
   "source": [
    "mae = mean_absolute_error(y_test, y_pred)\n",
    "rmse = np.sqrt(mean_squared_error(y_test, y_pred))\n",
    "r2 = r2_score(y_test, y_pred)\n",
    "\n",
    "print(f\"MAE: {mae:.2f}\")\n",
    "print(f\"RMSE: {rmse:.2f}\")\n",
    "print(f\"R²: {r2:.2f}\")"
   ]
  },
  {
   "cell_type": "markdown",
   "id": "d2fa3dfa",
   "metadata": {},
   "source": [
    "## 7. Kesimpulan\n",
    "Model regresi mampu memprediksi total pengeluaran dengan cukup akurat.\n",
    "\n",
    "Langkah selanjutnya:\n",
    "- Coba model lain (Linear Regression, XGBoost)\n",
    "- Tuning parameter\n",
    "- Visualisasi hasil prediksi vs data asli"
   ]
  }
 ],
 "metadata": {},
 "nbformat": 4,
 "nbformat_minor": 5
}
